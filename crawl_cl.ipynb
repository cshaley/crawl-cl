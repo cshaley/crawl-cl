{
 "cells": [
  {
   "cell_type": "markdown",
   "metadata": {},
   "source": [
    "### Imports"
   ]
  },
  {
   "cell_type": "code",
   "execution_count": 1,
   "metadata": {
    "collapsed": false
   },
   "outputs": [],
   "source": [
    "import datetime\n",
    "import numpy as np\n",
    "import pandas as pd\n",
    "import re\n",
    "import crawler as cr"
   ]
  },
  {
   "cell_type": "markdown",
   "metadata": {},
   "source": [
    "### Main Logic"
   ]
  },
  {
   "cell_type": "code",
   "execution_count": 2,
   "metadata": {
    "collapsed": false
   },
   "outputs": [
    {
     "name": "stdout",
     "output_type": "stream",
     "text": [
      "['abilene', 'amarillo', 'austin', 'beaumont', 'brownsville', 'collegestation', 'corpuschristi', 'dallas', 'nacogdoches', 'delrio', 'elpaso', 'galveston', 'houston', 'killeen', 'laredo', 'lubbock', 'mcallen', 'odessa', 'sanangelo', 'sanantonio', 'sanmarcos', 'bigbend', 'texoma', 'easttexas', 'victoriatx', 'waco', 'wichitafalls', 'fayar', 'fortsmith', 'jonesboro', 'littlerock', 'texarkana', 'auburn', 'bham', 'dothan', 'shoals', 'gadsden', 'huntsville', 'mobile', 'montgomery', 'tuscaloosa', 'gulfport', 'hattiesburg', 'jackson', 'meridian', 'northmiss', 'natchez', 'albuquerque', 'clovis', 'farmington', 'lascruces', 'roswell', 'santafe', 'boulder', 'cosprings', 'denver', 'eastco', 'fortcollins', 'rockies', 'pueblo', 'westslope', 'lawton', 'enid', 'oklahomacity', 'stillwater', 'tulsa', 'batonrouge', 'cenla', 'houma', 'lafayette', 'lakecharles', 'monroe', 'neworleans', 'shreveport', 'lawrence', 'ksu', 'nwks', 'salina', 'seks', 'swks', 'topeka', 'wichita']\n"
     ]
    }
   ],
   "source": [
    "# General configuration steps\n",
    "# What cities do you want to search? Just the ones in your state? Or in your region?\n",
    "# Modifying state_list will automatically modify city_list\n",
    "states = cr.get_craigslist_urls_by_state()\n",
    "state_list = ['texas', 'arkansas', 'alabama', 'mississippi', 'new mexico', 'colorado', 'oklahoma', 'louisiana', 'kansas']\n",
    "city_list = []\n",
    "for state in state_list:\n",
    "    city_list += states[state]\n",
    "print(city_list)\n",
    "\n",
    "# Search strings and stop strings will filter your results\n",
    "# If an item's title does not contain any of the search strings, then that item will be dropped\n",
    "# If an item's title contains any of the stop strings, then that item will be dropped\n",
    "search_strings = ['2009', '2010', '2011', '2012', '2013', '2014', '2015']\n",
    "stop_strings = ['gti', 'chevrolet', 'chevy', 'ford', '3.0', 'touareg', 'nissan', 'gmc', 'chrysler',\n",
    "                'dodge', 'saturn', 'mercedes', 'honda', 'buick', 'toyota', 'jeep', 'lincoln',\n",
    "                'scion', 'yamaha', ]\n"
   ]
  },
  {
   "cell_type": "code",
   "execution_count": 7,
   "metadata": {
    "collapsed": false
   },
   "outputs": [],
   "source": [
    "# This is where we run the meat of the program\n",
    "\n",
    "ds = [] # List of dictionaries of data\n",
    "city_list = ['dallas'] # Make city_list short for testing\n",
    "\n",
    "# TODO:\n",
    "# cshaley: 2016/10/17\n",
    "# Restructure this to make it more linear.\n",
    "# i.e. Create a dataframe with all of the links to load for all of the cities,\n",
    "#      and then load all of those links.\n",
    "# Drop duplicate entries before loading them?\n",
    "\n",
    "# TODO\n",
    "# cshaley: 2016/10/18\n",
    "# Restructure the whole program - put in .py files and make it object oriented?\n",
    "\n",
    "for city in city_list:\n",
    "    # Create the query URL\n",
    "    url = \"https://{}.craigslist.org/search/cta?query=tdi\".format(city)\n",
    "    \n",
    "    # Get links to all of the items in the search results\n",
    "    tlst, hlst = cr.get_sale_item_links(url)\n",
    "    \n",
    "    # If there were any results\n",
    "    if tlst and hlst:\n",
    "        # Create dataframe with craigslist items for sale as rows\n",
    "        df = pd.DataFrame(list(zip(tlst, hlst)), columns=['Title', 'Link'])\n",
    "        \n",
    "        # Filter before loading individual URLS as loading each URL is slow.\n",
    "        # Filter out items that don't contain any search strings\n",
    "        df = df[[True \\\n",
    "                 if any(s in str(r, 'utf-8').lower() \\\n",
    "                        for s in search_strings) \\\n",
    "                 else False \\\n",
    "                 for r in df['Title']]]\n",
    "\n",
    "        # Filter out items that contain stop strings\n",
    "        df = df[[False \\\n",
    "                 if any(s in str(r, 'utf-8').lower() \\\n",
    "                        for s in stop_strings) \\\n",
    "                 else True \\\n",
    "                 for r in df['Title']]]\n",
    "        \n",
    "        # Load each link and get the item attributes for each link.\n",
    "        # Create a dictionary and append it t\n",
    "        for lnk, title in zip(df['Link'].values, df['Title'].values):\n",
    "            d = cr.get_sale_item_attrs(lnk)\n",
    "            d['Link'] = lnk\n",
    "            d['Title'] = title\n",
    "            ds.append(d)\n",
    "\n",
    "# Create a dataframe from the list of dictionaries\n",
    "car_data = pd.DataFrame(ds)"
   ]
  },
  {
   "cell_type": "markdown",
   "metadata": {},
   "source": [
    "### Viewing and Saving"
   ]
  },
  {
   "cell_type": "code",
   "execution_count": 10,
   "metadata": {
    "collapsed": false
   },
   "outputs": [
    {
     "name": "stdout",
     "output_type": "stream",
     "text": [
      "Raw car data number of results: 13\n",
      "Cleaned car data number of results: 13\n",
      "Cleaned car data with clean title number of results: 13\n"
     ]
    }
   ],
   "source": [
    "# Print Number of results and clean data\n",
    "print(\"Raw car data number of results: {}\".format(len(car_data.index)))\n",
    "cleaned_car_data = car_data.drop_duplicates()\n",
    "print(\"Cleaned car data number of results: {}\".format(len(cleaned_car_data.index)))\n",
    "cleaned_car_data = cleaned_car_data[cleaned_car_data[u'title status: ']=='clean']\n",
    "print(\"Cleaned car data with clean title number of results: {}\".format(len(cleaned_car_data.index)))"
   ]
  },
  {
   "cell_type": "code",
   "execution_count": 11,
   "metadata": {
    "collapsed": false
   },
   "outputs": [
    {
     "data": {
      "text/html": [
       "<div>\n",
       "<table border=\"1\" class=\"dataframe\">\n",
       "  <thead>\n",
       "    <tr style=\"text-align: right;\">\n",
       "      <th></th>\n",
       "      <th>Description</th>\n",
       "      <th>Link</th>\n",
       "      <th>Price</th>\n",
       "      <th>Title</th>\n",
       "      <th>VIN:</th>\n",
       "      <th>condition:</th>\n",
       "      <th>cylinders:</th>\n",
       "      <th>drive:</th>\n",
       "      <th>fuel:</th>\n",
       "      <th>odometer:</th>\n",
       "      <th>paint color:</th>\n",
       "      <th>size:</th>\n",
       "      <th>title status:</th>\n",
       "      <th>transmission:</th>\n",
       "      <th>type:</th>\n",
       "    </tr>\n",
       "  </thead>\n",
       "  <tbody>\n",
       "    <tr>\n",
       "      <th>0</th>\n",
       "      <td>2011 *Audi* *Q7* *TDI* *QUATTRO* *PRESTIGE* NA...</td>\n",
       "      <td>http://dallas.craigslist.org/dal/ctd/583334665...</td>\n",
       "      <td>$26995</td>\n",
       "      <td>b'2011 *Audi* *Q7* *TDI* *QUATTRO* *PRESTIGE* ...</td>\n",
       "      <td>WA1VMAFE0BD008107</td>\n",
       "      <td>NaN</td>\n",
       "      <td>NaN</td>\n",
       "      <td>NaN</td>\n",
       "      <td>gas</td>\n",
       "      <td>93358</td>\n",
       "      <td>NaN</td>\n",
       "      <td>NaN</td>\n",
       "      <td>clean</td>\n",
       "      <td>automatic</td>\n",
       "      <td>NaN</td>\n",
       "    </tr>\n",
       "    <tr>\n",
       "      <th>1</th>\n",
       "      <td>Black / Tan 2009 Volkswagen Jetta Sedan DSG TD...</td>\n",
       "      <td>http://dallas.craigslist.org/mdf/cto/581621517...</td>\n",
       "      <td>$8495</td>\n",
       "      <td>b'2009 Volkswagen Jetta Sedan DSG TDI'</td>\n",
       "      <td>NaN</td>\n",
       "      <td>NaN</td>\n",
       "      <td>NaN</td>\n",
       "      <td>NaN</td>\n",
       "      <td>diesel</td>\n",
       "      <td>107000</td>\n",
       "      <td>NaN</td>\n",
       "      <td>NaN</td>\n",
       "      <td>clean</td>\n",
       "      <td>automatic</td>\n",
       "      <td>NaN</td>\n",
       "    </tr>\n",
       "    <tr>\n",
       "      <th>2</th>\n",
       "      <td>Selling a black Audi Q7 TDI Quattro Premium Pl...</td>\n",
       "      <td>http://dallas.craigslist.org/dal/cto/583608168...</td>\n",
       "      <td>$40000</td>\n",
       "      <td>b'2014 Audi Q7 TDI'</td>\n",
       "      <td>WA1LMAFE0ED005011</td>\n",
       "      <td>like new</td>\n",
       "      <td>6 cylinders</td>\n",
       "      <td>4wd</td>\n",
       "      <td>diesel</td>\n",
       "      <td>30251</td>\n",
       "      <td>black</td>\n",
       "      <td>NaN</td>\n",
       "      <td>clean</td>\n",
       "      <td>automatic</td>\n",
       "      <td>SUV</td>\n",
       "    </tr>\n",
       "    <tr>\n",
       "      <th>3</th>\n",
       "      <td>2014 Volkswagen Jetta Sedan diesel 500.00 tota...</td>\n",
       "      <td>http://dallas.craigslist.org/mdf/ctd/582852257...</td>\n",
       "      <td>$19995</td>\n",
       "      <td>b'2014 Volkswagen Jetta Sedan 4dr DSG TDI 500....</td>\n",
       "      <td>3VWLL7AJ7EM237221</td>\n",
       "      <td>excellent</td>\n",
       "      <td>4 cylinders</td>\n",
       "      <td>fwd</td>\n",
       "      <td>diesel</td>\n",
       "      <td>66889</td>\n",
       "      <td>silver</td>\n",
       "      <td>compact</td>\n",
       "      <td>clean</td>\n",
       "      <td>automatic</td>\n",
       "      <td>sedan</td>\n",
       "    </tr>\n",
       "    <tr>\n",
       "      <th>4</th>\n",
       "      <td>2012 *Volkswagen* *Jetta* *Sedan* TDI; $795 Do...</td>\n",
       "      <td>http://dallas.craigslist.org/dal/ctd/579702982...</td>\n",
       "      <td>$10995</td>\n",
       "      <td>b'2012 *Volkswagen* *Jetta* *Sedan* TDI; $795 ...</td>\n",
       "      <td>3VWLL7AJ9CM332327</td>\n",
       "      <td>NaN</td>\n",
       "      <td>NaN</td>\n",
       "      <td>NaN</td>\n",
       "      <td>other</td>\n",
       "      <td>81289</td>\n",
       "      <td>NaN</td>\n",
       "      <td>NaN</td>\n",
       "      <td>clean</td>\n",
       "      <td>automatic</td>\n",
       "      <td>NaN</td>\n",
       "    </tr>\n",
       "  </tbody>\n",
       "</table>\n",
       "</div>"
      ],
      "text/plain": [
       "                                         Description  \\\n",
       "0  2011 *Audi* *Q7* *TDI* *QUATTRO* *PRESTIGE* NA...   \n",
       "1  Black / Tan 2009 Volkswagen Jetta Sedan DSG TD...   \n",
       "2  Selling a black Audi Q7 TDI Quattro Premium Pl...   \n",
       "3  2014 Volkswagen Jetta Sedan diesel 500.00 tota...   \n",
       "4  2012 *Volkswagen* *Jetta* *Sedan* TDI; $795 Do...   \n",
       "\n",
       "                                                Link   Price  \\\n",
       "0  http://dallas.craigslist.org/dal/ctd/583334665...  $26995   \n",
       "1  http://dallas.craigslist.org/mdf/cto/581621517...   $8495   \n",
       "2  http://dallas.craigslist.org/dal/cto/583608168...  $40000   \n",
       "3  http://dallas.craigslist.org/mdf/ctd/582852257...  $19995   \n",
       "4  http://dallas.craigslist.org/dal/ctd/579702982...  $10995   \n",
       "\n",
       "                                               Title              VIN:   \\\n",
       "0  b'2011 *Audi* *Q7* *TDI* *QUATTRO* *PRESTIGE* ...  WA1VMAFE0BD008107   \n",
       "1             b'2009 Volkswagen Jetta Sedan DSG TDI'                NaN   \n",
       "2                                b'2014 Audi Q7 TDI'  WA1LMAFE0ED005011   \n",
       "3  b'2014 Volkswagen Jetta Sedan 4dr DSG TDI 500....  3VWLL7AJ7EM237221   \n",
       "4  b'2012 *Volkswagen* *Jetta* *Sedan* TDI; $795 ...  3VWLL7AJ9CM332327   \n",
       "\n",
       "  condition:   cylinders:  drive:   fuel:  odometer:  paint color:    size:   \\\n",
       "0         NaN          NaN     NaN     gas      93358           NaN      NaN   \n",
       "1         NaN          NaN     NaN  diesel     107000           NaN      NaN   \n",
       "2    like new  6 cylinders     4wd  diesel      30251         black      NaN   \n",
       "3   excellent  4 cylinders     fwd  diesel      66889        silver  compact   \n",
       "4         NaN          NaN     NaN   other      81289           NaN      NaN   \n",
       "\n",
       "  title status:  transmission:  type:   \n",
       "0          clean      automatic    NaN  \n",
       "1          clean      automatic    NaN  \n",
       "2          clean      automatic    SUV  \n",
       "3          clean      automatic  sedan  \n",
       "4          clean      automatic    NaN  "
      ]
     },
     "execution_count": 11,
     "metadata": {},
     "output_type": "execute_result"
    }
   ],
   "source": [
    "car_data.head()"
   ]
  },
  {
   "cell_type": "code",
   "execution_count": null,
   "metadata": {
    "collapsed": false
   },
   "outputs": [],
   "source": [
    "cleaned_car_data.head()"
   ]
  },
  {
   "cell_type": "code",
   "execution_count": null,
   "metadata": {
    "collapsed": true
   },
   "outputs": [],
   "source": [
    "# Write data to disk - with a timestamp so you dont overwrite anything on accident\n",
    "now = re.sub('[ .:-]', '', str(datetime.datetime.now()))\n",
    "car_data.to_csv('raw_car_data_{}.csv'.format(now), index=False, encoding='utf-8')\n",
    "cleaned_car_data.to_csv('cleaned_car_data_{}.csv'.format(now), index=False, encoding='utf-8')"
   ]
  },
  {
   "cell_type": "code",
   "execution_count": null,
   "metadata": {
    "collapsed": false
   },
   "outputs": [],
   "source": [
    "# Read it for a sanity check\n",
    "read_car_data = pd.read_csv('raw_car_data_{}.csv'.format(now))"
   ]
  },
  {
   "cell_type": "code",
   "execution_count": null,
   "metadata": {
    "collapsed": false
   },
   "outputs": [],
   "source": [
    "read_car_data.head()"
   ]
  }
 ],
 "metadata": {
  "anaconda-cloud": {},
  "kernelspec": {
   "display_name": "Python 3",
   "language": "python",
   "name": "python3"
  },
  "language_info": {
   "codemirror_mode": {
    "name": "ipython",
    "version": 3
   },
   "file_extension": ".py",
   "mimetype": "text/x-python",
   "name": "python",
   "nbconvert_exporter": "python",
   "pygments_lexer": "ipython3",
   "version": "3.5.2"
  }
 },
 "nbformat": 4,
 "nbformat_minor": 1
}
